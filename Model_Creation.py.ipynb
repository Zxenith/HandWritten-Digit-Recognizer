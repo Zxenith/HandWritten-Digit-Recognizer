{
 "cells": [
  {
   "cell_type": "code",
   "id": "initial_id",
   "metadata": {
    "collapsed": true,
    "ExecuteTime": {
     "end_time": "2024-06-14T16:16:23.097749Z",
     "start_time": "2024-06-14T16:16:14.862275Z"
    }
   },
   "source": [
    "import numpy\n",
    "import numpy as np \n",
    "import pandas as pd \n",
    "from matplotlib import pyplot as plt\n",
    "import seaborn as sns\n",
    "import tensorflow as tf\n",
    "from tensorflow.keras.models import Sequential, load_model\n",
    "from tensorflow.keras.layers import Normalization, Dense, Dropout, Conv2D, Flatten, MaxPooling2D, Input, Lambda\n",
    "from tensorflow.keras.losses import SparseCategoricalCrossentropy\n",
    "from sklearn.metrics import accuracy_score\n",
    "from sklearn.preprocessing import StandardScaler\n",
    "import math\n",
    "from tensorflow.keras import datasets, utils\n",
    "from sklearn.model_selection import train_test_split\n",
    "import cv2\n",
    "from tensorflow.keras.callbacks import EarlyStopping, ModelCheckpoint\n",
    "from tensorflow.keras.optimizers import Adam"
   ],
   "outputs": [],
   "execution_count": 2
  },
  {
   "metadata": {
    "ExecuteTime": {
     "end_time": "2024-06-14T16:18:48.842059Z",
     "start_time": "2024-06-14T16:17:29.646573Z"
    }
   },
   "cell_type": "code",
   "source": [
    "local_X_Data = np.load('Datasets/emnist-normal-bymerge.npy')\n",
    "y = np.load('Datasets/emnist-target-bymerge.npy')"
   ],
   "id": "1c6264a19fcdcf08",
   "outputs": [],
   "execution_count": 7
  },
  {
   "metadata": {
    "ExecuteTime": {
     "end_time": "2024-06-14T16:16:24.479343Z",
     "start_time": "2024-06-14T16:16:24.436427Z"
    }
   },
   "cell_type": "code",
   "source": [
    "model = Sequential()\n",
    "# model.add(Input(shape=(28*28,)))\n",
    "# model.add(norm_layer)\n",
    "model.add(Conv2D(filters=64, kernel_size=(3, 3), activation='relu'))\n",
    "model.add(MaxPooling2D(pool_size=(2, 2)))\n",
    "model.add(Conv2D(64,(3,3),activation='relu'))\n",
    "model.add(MaxPooling2D(pool_size=(2,2)))\n",
    "model.add(Flatten())\n",
    "model.add(Dense(64, activation='relu'))\n",
    "model.add(Dense(32, activation='relu'))\n",
    "model.add(Dense(47, activation='softmax'))\n",
    "\n",
    "model.summary()"
   ],
   "id": "95a7a3b9f57d013d",
   "outputs": [
    {
     "data": {
      "text/plain": [
       "\u001B[1mModel: \"sequential\"\u001B[0m\n"
      ],
      "text/html": [
       "<pre style=\"white-space:pre;overflow-x:auto;line-height:normal;font-family:Menlo,'DejaVu Sans Mono',consolas,'Courier New',monospace\"><span style=\"font-weight: bold\">Model: \"sequential\"</span>\n",
       "</pre>\n"
      ]
     },
     "metadata": {},
     "output_type": "display_data"
    },
    {
     "data": {
      "text/plain": [
       "┏━━━━━━━━━━━━━━━━━━━━━━━━━━━━━━━━━┳━━━━━━━━━━━━━━━━━━━━━━━━┳━━━━━━━━━━━━━━━┓\n",
       "┃\u001B[1m \u001B[0m\u001B[1mLayer (type)                   \u001B[0m\u001B[1m \u001B[0m┃\u001B[1m \u001B[0m\u001B[1mOutput Shape          \u001B[0m\u001B[1m \u001B[0m┃\u001B[1m \u001B[0m\u001B[1m      Param #\u001B[0m\u001B[1m \u001B[0m┃\n",
       "┡━━━━━━━━━━━━━━━━━━━━━━━━━━━━━━━━━╇━━━━━━━━━━━━━━━━━━━━━━━━╇━━━━━━━━━━━━━━━┩\n",
       "│ conv2d (\u001B[38;5;33mConv2D\u001B[0m)                 │ ?                      │   \u001B[38;5;34m0\u001B[0m (unbuilt) │\n",
       "├─────────────────────────────────┼────────────────────────┼───────────────┤\n",
       "│ max_pooling2d (\u001B[38;5;33mMaxPooling2D\u001B[0m)    │ ?                      │   \u001B[38;5;34m0\u001B[0m (unbuilt) │\n",
       "├─────────────────────────────────┼────────────────────────┼───────────────┤\n",
       "│ conv2d_1 (\u001B[38;5;33mConv2D\u001B[0m)               │ ?                      │   \u001B[38;5;34m0\u001B[0m (unbuilt) │\n",
       "├─────────────────────────────────┼────────────────────────┼───────────────┤\n",
       "│ max_pooling2d_1 (\u001B[38;5;33mMaxPooling2D\u001B[0m)  │ ?                      │   \u001B[38;5;34m0\u001B[0m (unbuilt) │\n",
       "├─────────────────────────────────┼────────────────────────┼───────────────┤\n",
       "│ flatten (\u001B[38;5;33mFlatten\u001B[0m)               │ ?                      │   \u001B[38;5;34m0\u001B[0m (unbuilt) │\n",
       "├─────────────────────────────────┼────────────────────────┼───────────────┤\n",
       "│ dense (\u001B[38;5;33mDense\u001B[0m)                   │ ?                      │   \u001B[38;5;34m0\u001B[0m (unbuilt) │\n",
       "├─────────────────────────────────┼────────────────────────┼───────────────┤\n",
       "│ dense_1 (\u001B[38;5;33mDense\u001B[0m)                 │ ?                      │   \u001B[38;5;34m0\u001B[0m (unbuilt) │\n",
       "├─────────────────────────────────┼────────────────────────┼───────────────┤\n",
       "│ dense_2 (\u001B[38;5;33mDense\u001B[0m)                 │ ?                      │   \u001B[38;5;34m0\u001B[0m (unbuilt) │\n",
       "└─────────────────────────────────┴────────────────────────┴───────────────┘\n"
      ],
      "text/html": [
       "<pre style=\"white-space:pre;overflow-x:auto;line-height:normal;font-family:Menlo,'DejaVu Sans Mono',consolas,'Courier New',monospace\">┏━━━━━━━━━━━━━━━━━━━━━━━━━━━━━━━━━┳━━━━━━━━━━━━━━━━━━━━━━━━┳━━━━━━━━━━━━━━━┓\n",
       "┃<span style=\"font-weight: bold\"> Layer (type)                    </span>┃<span style=\"font-weight: bold\"> Output Shape           </span>┃<span style=\"font-weight: bold\">       Param # </span>┃\n",
       "┡━━━━━━━━━━━━━━━━━━━━━━━━━━━━━━━━━╇━━━━━━━━━━━━━━━━━━━━━━━━╇━━━━━━━━━━━━━━━┩\n",
       "│ conv2d (<span style=\"color: #0087ff; text-decoration-color: #0087ff\">Conv2D</span>)                 │ ?                      │   <span style=\"color: #00af00; text-decoration-color: #00af00\">0</span> (unbuilt) │\n",
       "├─────────────────────────────────┼────────────────────────┼───────────────┤\n",
       "│ max_pooling2d (<span style=\"color: #0087ff; text-decoration-color: #0087ff\">MaxPooling2D</span>)    │ ?                      │   <span style=\"color: #00af00; text-decoration-color: #00af00\">0</span> (unbuilt) │\n",
       "├─────────────────────────────────┼────────────────────────┼───────────────┤\n",
       "│ conv2d_1 (<span style=\"color: #0087ff; text-decoration-color: #0087ff\">Conv2D</span>)               │ ?                      │   <span style=\"color: #00af00; text-decoration-color: #00af00\">0</span> (unbuilt) │\n",
       "├─────────────────────────────────┼────────────────────────┼───────────────┤\n",
       "│ max_pooling2d_1 (<span style=\"color: #0087ff; text-decoration-color: #0087ff\">MaxPooling2D</span>)  │ ?                      │   <span style=\"color: #00af00; text-decoration-color: #00af00\">0</span> (unbuilt) │\n",
       "├─────────────────────────────────┼────────────────────────┼───────────────┤\n",
       "│ flatten (<span style=\"color: #0087ff; text-decoration-color: #0087ff\">Flatten</span>)               │ ?                      │   <span style=\"color: #00af00; text-decoration-color: #00af00\">0</span> (unbuilt) │\n",
       "├─────────────────────────────────┼────────────────────────┼───────────────┤\n",
       "│ dense (<span style=\"color: #0087ff; text-decoration-color: #0087ff\">Dense</span>)                   │ ?                      │   <span style=\"color: #00af00; text-decoration-color: #00af00\">0</span> (unbuilt) │\n",
       "├─────────────────────────────────┼────────────────────────┼───────────────┤\n",
       "│ dense_1 (<span style=\"color: #0087ff; text-decoration-color: #0087ff\">Dense</span>)                 │ ?                      │   <span style=\"color: #00af00; text-decoration-color: #00af00\">0</span> (unbuilt) │\n",
       "├─────────────────────────────────┼────────────────────────┼───────────────┤\n",
       "│ dense_2 (<span style=\"color: #0087ff; text-decoration-color: #0087ff\">Dense</span>)                 │ ?                      │   <span style=\"color: #00af00; text-decoration-color: #00af00\">0</span> (unbuilt) │\n",
       "└─────────────────────────────────┴────────────────────────┴───────────────┘\n",
       "</pre>\n"
      ]
     },
     "metadata": {},
     "output_type": "display_data"
    },
    {
     "data": {
      "text/plain": [
       "\u001B[1m Total params: \u001B[0m\u001B[38;5;34m0\u001B[0m (0.00 B)\n"
      ],
      "text/html": [
       "<pre style=\"white-space:pre;overflow-x:auto;line-height:normal;font-family:Menlo,'DejaVu Sans Mono',consolas,'Courier New',monospace\"><span style=\"font-weight: bold\"> Total params: </span><span style=\"color: #00af00; text-decoration-color: #00af00\">0</span> (0.00 B)\n",
       "</pre>\n"
      ]
     },
     "metadata": {},
     "output_type": "display_data"
    },
    {
     "data": {
      "text/plain": [
       "\u001B[1m Trainable params: \u001B[0m\u001B[38;5;34m0\u001B[0m (0.00 B)\n"
      ],
      "text/html": [
       "<pre style=\"white-space:pre;overflow-x:auto;line-height:normal;font-family:Menlo,'DejaVu Sans Mono',consolas,'Courier New',monospace\"><span style=\"font-weight: bold\"> Trainable params: </span><span style=\"color: #00af00; text-decoration-color: #00af00\">0</span> (0.00 B)\n",
       "</pre>\n"
      ]
     },
     "metadata": {},
     "output_type": "display_data"
    },
    {
     "data": {
      "text/plain": [
       "\u001B[1m Non-trainable params: \u001B[0m\u001B[38;5;34m0\u001B[0m (0.00 B)\n"
      ],
      "text/html": [
       "<pre style=\"white-space:pre;overflow-x:auto;line-height:normal;font-family:Menlo,'DejaVu Sans Mono',consolas,'Courier New',monospace\"><span style=\"font-weight: bold\"> Non-trainable params: </span><span style=\"color: #00af00; text-decoration-color: #00af00\">0</span> (0.00 B)\n",
       "</pre>\n"
      ]
     },
     "metadata": {},
     "output_type": "display_data"
    }
   ],
   "execution_count": 3
  },
  {
   "metadata": {
    "ExecuteTime": {
     "end_time": "2024-06-14T16:16:25.991614Z",
     "start_time": "2024-06-14T16:16:25.877010Z"
    }
   },
   "cell_type": "code",
   "source": [
    "optimizer_Adam = Adam(learning_rate=0.0001)\n",
    "scc_loss = SparseCategoricalCrossentropy()"
   ],
   "id": "bf5c53dc978f4f93",
   "outputs": [],
   "execution_count": 4
  },
  {
   "metadata": {
    "ExecuteTime": {
     "end_time": "2024-06-14T16:16:28.081154Z",
     "start_time": "2024-06-14T16:16:28.058125Z"
    }
   },
   "cell_type": "code",
   "source": [
    "model.compile(loss=scc_loss, optimizer=optimizer_Adam, metrics=['accuracy'])\n",
    "early_stopping = EarlyStopping(monitor='val_loss', patience=5, verbose=1, mode='min')\n",
    "mcp_save = ModelCheckpoint('char_model.keras', save_best_only=True, monitor='val_loss', verbose=1, mode='auto')"
   ],
   "id": "2a5d1d31a5271f9f",
   "outputs": [],
   "execution_count": 5
  },
  {
   "metadata": {
    "ExecuteTime": {
     "end_time": "2024-06-14T16:16:28.734012Z",
     "start_time": "2024-06-14T16:16:28.714709Z"
    }
   },
   "cell_type": "code",
   "source": "model.summary()",
   "id": "a1a45107373c7584",
   "outputs": [
    {
     "data": {
      "text/plain": [
       "\u001B[1mModel: \"sequential\"\u001B[0m\n"
      ],
      "text/html": [
       "<pre style=\"white-space:pre;overflow-x:auto;line-height:normal;font-family:Menlo,'DejaVu Sans Mono',consolas,'Courier New',monospace\"><span style=\"font-weight: bold\">Model: \"sequential\"</span>\n",
       "</pre>\n"
      ]
     },
     "metadata": {},
     "output_type": "display_data"
    },
    {
     "data": {
      "text/plain": [
       "┏━━━━━━━━━━━━━━━━━━━━━━━━━━━━━━━━━┳━━━━━━━━━━━━━━━━━━━━━━━━┳━━━━━━━━━━━━━━━┓\n",
       "┃\u001B[1m \u001B[0m\u001B[1mLayer (type)                   \u001B[0m\u001B[1m \u001B[0m┃\u001B[1m \u001B[0m\u001B[1mOutput Shape          \u001B[0m\u001B[1m \u001B[0m┃\u001B[1m \u001B[0m\u001B[1m      Param #\u001B[0m\u001B[1m \u001B[0m┃\n",
       "┡━━━━━━━━━━━━━━━━━━━━━━━━━━━━━━━━━╇━━━━━━━━━━━━━━━━━━━━━━━━╇━━━━━━━━━━━━━━━┩\n",
       "│ conv2d (\u001B[38;5;33mConv2D\u001B[0m)                 │ ?                      │   \u001B[38;5;34m0\u001B[0m (unbuilt) │\n",
       "├─────────────────────────────────┼────────────────────────┼───────────────┤\n",
       "│ max_pooling2d (\u001B[38;5;33mMaxPooling2D\u001B[0m)    │ ?                      │   \u001B[38;5;34m0\u001B[0m (unbuilt) │\n",
       "├─────────────────────────────────┼────────────────────────┼───────────────┤\n",
       "│ conv2d_1 (\u001B[38;5;33mConv2D\u001B[0m)               │ ?                      │   \u001B[38;5;34m0\u001B[0m (unbuilt) │\n",
       "├─────────────────────────────────┼────────────────────────┼───────────────┤\n",
       "│ max_pooling2d_1 (\u001B[38;5;33mMaxPooling2D\u001B[0m)  │ ?                      │   \u001B[38;5;34m0\u001B[0m (unbuilt) │\n",
       "├─────────────────────────────────┼────────────────────────┼───────────────┤\n",
       "│ flatten (\u001B[38;5;33mFlatten\u001B[0m)               │ ?                      │   \u001B[38;5;34m0\u001B[0m (unbuilt) │\n",
       "├─────────────────────────────────┼────────────────────────┼───────────────┤\n",
       "│ dense (\u001B[38;5;33mDense\u001B[0m)                   │ ?                      │   \u001B[38;5;34m0\u001B[0m (unbuilt) │\n",
       "├─────────────────────────────────┼────────────────────────┼───────────────┤\n",
       "│ dense_1 (\u001B[38;5;33mDense\u001B[0m)                 │ ?                      │   \u001B[38;5;34m0\u001B[0m (unbuilt) │\n",
       "├─────────────────────────────────┼────────────────────────┼───────────────┤\n",
       "│ dense_2 (\u001B[38;5;33mDense\u001B[0m)                 │ ?                      │   \u001B[38;5;34m0\u001B[0m (unbuilt) │\n",
       "└─────────────────────────────────┴────────────────────────┴───────────────┘\n"
      ],
      "text/html": [
       "<pre style=\"white-space:pre;overflow-x:auto;line-height:normal;font-family:Menlo,'DejaVu Sans Mono',consolas,'Courier New',monospace\">┏━━━━━━━━━━━━━━━━━━━━━━━━━━━━━━━━━┳━━━━━━━━━━━━━━━━━━━━━━━━┳━━━━━━━━━━━━━━━┓\n",
       "┃<span style=\"font-weight: bold\"> Layer (type)                    </span>┃<span style=\"font-weight: bold\"> Output Shape           </span>┃<span style=\"font-weight: bold\">       Param # </span>┃\n",
       "┡━━━━━━━━━━━━━━━━━━━━━━━━━━━━━━━━━╇━━━━━━━━━━━━━━━━━━━━━━━━╇━━━━━━━━━━━━━━━┩\n",
       "│ conv2d (<span style=\"color: #0087ff; text-decoration-color: #0087ff\">Conv2D</span>)                 │ ?                      │   <span style=\"color: #00af00; text-decoration-color: #00af00\">0</span> (unbuilt) │\n",
       "├─────────────────────────────────┼────────────────────────┼───────────────┤\n",
       "│ max_pooling2d (<span style=\"color: #0087ff; text-decoration-color: #0087ff\">MaxPooling2D</span>)    │ ?                      │   <span style=\"color: #00af00; text-decoration-color: #00af00\">0</span> (unbuilt) │\n",
       "├─────────────────────────────────┼────────────────────────┼───────────────┤\n",
       "│ conv2d_1 (<span style=\"color: #0087ff; text-decoration-color: #0087ff\">Conv2D</span>)               │ ?                      │   <span style=\"color: #00af00; text-decoration-color: #00af00\">0</span> (unbuilt) │\n",
       "├─────────────────────────────────┼────────────────────────┼───────────────┤\n",
       "│ max_pooling2d_1 (<span style=\"color: #0087ff; text-decoration-color: #0087ff\">MaxPooling2D</span>)  │ ?                      │   <span style=\"color: #00af00; text-decoration-color: #00af00\">0</span> (unbuilt) │\n",
       "├─────────────────────────────────┼────────────────────────┼───────────────┤\n",
       "│ flatten (<span style=\"color: #0087ff; text-decoration-color: #0087ff\">Flatten</span>)               │ ?                      │   <span style=\"color: #00af00; text-decoration-color: #00af00\">0</span> (unbuilt) │\n",
       "├─────────────────────────────────┼────────────────────────┼───────────────┤\n",
       "│ dense (<span style=\"color: #0087ff; text-decoration-color: #0087ff\">Dense</span>)                   │ ?                      │   <span style=\"color: #00af00; text-decoration-color: #00af00\">0</span> (unbuilt) │\n",
       "├─────────────────────────────────┼────────────────────────┼───────────────┤\n",
       "│ dense_1 (<span style=\"color: #0087ff; text-decoration-color: #0087ff\">Dense</span>)                 │ ?                      │   <span style=\"color: #00af00; text-decoration-color: #00af00\">0</span> (unbuilt) │\n",
       "├─────────────────────────────────┼────────────────────────┼───────────────┤\n",
       "│ dense_2 (<span style=\"color: #0087ff; text-decoration-color: #0087ff\">Dense</span>)                 │ ?                      │   <span style=\"color: #00af00; text-decoration-color: #00af00\">0</span> (unbuilt) │\n",
       "└─────────────────────────────────┴────────────────────────┴───────────────┘\n",
       "</pre>\n"
      ]
     },
     "metadata": {},
     "output_type": "display_data"
    },
    {
     "data": {
      "text/plain": [
       "\u001B[1m Total params: \u001B[0m\u001B[38;5;34m0\u001B[0m (0.00 B)\n"
      ],
      "text/html": [
       "<pre style=\"white-space:pre;overflow-x:auto;line-height:normal;font-family:Menlo,'DejaVu Sans Mono',consolas,'Courier New',monospace\"><span style=\"font-weight: bold\"> Total params: </span><span style=\"color: #00af00; text-decoration-color: #00af00\">0</span> (0.00 B)\n",
       "</pre>\n"
      ]
     },
     "metadata": {},
     "output_type": "display_data"
    },
    {
     "data": {
      "text/plain": [
       "\u001B[1m Trainable params: \u001B[0m\u001B[38;5;34m0\u001B[0m (0.00 B)\n"
      ],
      "text/html": [
       "<pre style=\"white-space:pre;overflow-x:auto;line-height:normal;font-family:Menlo,'DejaVu Sans Mono',consolas,'Courier New',monospace\"><span style=\"font-weight: bold\"> Trainable params: </span><span style=\"color: #00af00; text-decoration-color: #00af00\">0</span> (0.00 B)\n",
       "</pre>\n"
      ]
     },
     "metadata": {},
     "output_type": "display_data"
    },
    {
     "data": {
      "text/plain": [
       "\u001B[1m Non-trainable params: \u001B[0m\u001B[38;5;34m0\u001B[0m (0.00 B)\n"
      ],
      "text/html": [
       "<pre style=\"white-space:pre;overflow-x:auto;line-height:normal;font-family:Menlo,'DejaVu Sans Mono',consolas,'Courier New',monospace\"><span style=\"font-weight: bold\"> Non-trainable params: </span><span style=\"color: #00af00; text-decoration-color: #00af00\">0</span> (0.00 B)\n",
       "</pre>\n"
      ]
     },
     "metadata": {},
     "output_type": "display_data"
    }
   ],
   "execution_count": 6
  },
  {
   "metadata": {
    "jupyter": {
     "is_executing": true
    }
   },
   "cell_type": "code",
   "source": [
    "history = model.fit(local_X_Data,\n",
    "                    y, \n",
    "                    epochs=5, \n",
    "                    batch_size=32, \n",
    "                    verbose=1, \n",
    "                    validation_split=0.1,\n",
    "                    callbacks=[early_stopping, mcp_save])"
   ],
   "id": "dd517e3281773e2d",
   "outputs": [],
   "execution_count": null
  },
  {
   "metadata": {
    "ExecuteTime": {
     "end_time": "2024-06-14T16:19:33.055694Z",
     "start_time": "2024-06-14T16:19:32.396603Z"
    }
   },
   "cell_type": "code",
   "source": [
    "labels = pd.read_csv('Datasets/emnist-bymerge-mapping.txt',\n",
    "                     delimiter=' ', header=None, index_col=0)\n",
    "labels"
   ],
   "id": "92efdaf9aa2f1f5d",
   "outputs": [
    {
     "data": {
      "text/plain": [
       "      1\n",
       "0      \n",
       "0    48\n",
       "1    49\n",
       "2    50\n",
       "3    51\n",
       "4    52\n",
       "5    53\n",
       "6    54\n",
       "7    55\n",
       "8    56\n",
       "9    57\n",
       "10   65\n",
       "11   66\n",
       "12   67\n",
       "13   68\n",
       "14   69\n",
       "15   70\n",
       "16   71\n",
       "17   72\n",
       "18   73\n",
       "19   74\n",
       "20   75\n",
       "21   76\n",
       "22   77\n",
       "23   78\n",
       "24   79\n",
       "25   80\n",
       "26   81\n",
       "27   82\n",
       "28   83\n",
       "29   84\n",
       "30   85\n",
       "31   86\n",
       "32   87\n",
       "33   88\n",
       "34   89\n",
       "35   90\n",
       "36   97\n",
       "37   98\n",
       "38  100\n",
       "39  101\n",
       "40  102\n",
       "41  103\n",
       "42  104\n",
       "43  110\n",
       "44  113\n",
       "45  114\n",
       "46  116"
      ],
      "text/html": [
       "<div>\n",
       "<style scoped>\n",
       "    .dataframe tbody tr th:only-of-type {\n",
       "        vertical-align: middle;\n",
       "    }\n",
       "\n",
       "    .dataframe tbody tr th {\n",
       "        vertical-align: top;\n",
       "    }\n",
       "\n",
       "    .dataframe thead th {\n",
       "        text-align: right;\n",
       "    }\n",
       "</style>\n",
       "<table border=\"1\" class=\"dataframe\">\n",
       "  <thead>\n",
       "    <tr style=\"text-align: right;\">\n",
       "      <th></th>\n",
       "      <th>1</th>\n",
       "    </tr>\n",
       "    <tr>\n",
       "      <th>0</th>\n",
       "      <th></th>\n",
       "    </tr>\n",
       "  </thead>\n",
       "  <tbody>\n",
       "    <tr>\n",
       "      <th>0</th>\n",
       "      <td>48</td>\n",
       "    </tr>\n",
       "    <tr>\n",
       "      <th>1</th>\n",
       "      <td>49</td>\n",
       "    </tr>\n",
       "    <tr>\n",
       "      <th>2</th>\n",
       "      <td>50</td>\n",
       "    </tr>\n",
       "    <tr>\n",
       "      <th>3</th>\n",
       "      <td>51</td>\n",
       "    </tr>\n",
       "    <tr>\n",
       "      <th>4</th>\n",
       "      <td>52</td>\n",
       "    </tr>\n",
       "    <tr>\n",
       "      <th>5</th>\n",
       "      <td>53</td>\n",
       "    </tr>\n",
       "    <tr>\n",
       "      <th>6</th>\n",
       "      <td>54</td>\n",
       "    </tr>\n",
       "    <tr>\n",
       "      <th>7</th>\n",
       "      <td>55</td>\n",
       "    </tr>\n",
       "    <tr>\n",
       "      <th>8</th>\n",
       "      <td>56</td>\n",
       "    </tr>\n",
       "    <tr>\n",
       "      <th>9</th>\n",
       "      <td>57</td>\n",
       "    </tr>\n",
       "    <tr>\n",
       "      <th>10</th>\n",
       "      <td>65</td>\n",
       "    </tr>\n",
       "    <tr>\n",
       "      <th>11</th>\n",
       "      <td>66</td>\n",
       "    </tr>\n",
       "    <tr>\n",
       "      <th>12</th>\n",
       "      <td>67</td>\n",
       "    </tr>\n",
       "    <tr>\n",
       "      <th>13</th>\n",
       "      <td>68</td>\n",
       "    </tr>\n",
       "    <tr>\n",
       "      <th>14</th>\n",
       "      <td>69</td>\n",
       "    </tr>\n",
       "    <tr>\n",
       "      <th>15</th>\n",
       "      <td>70</td>\n",
       "    </tr>\n",
       "    <tr>\n",
       "      <th>16</th>\n",
       "      <td>71</td>\n",
       "    </tr>\n",
       "    <tr>\n",
       "      <th>17</th>\n",
       "      <td>72</td>\n",
       "    </tr>\n",
       "    <tr>\n",
       "      <th>18</th>\n",
       "      <td>73</td>\n",
       "    </tr>\n",
       "    <tr>\n",
       "      <th>19</th>\n",
       "      <td>74</td>\n",
       "    </tr>\n",
       "    <tr>\n",
       "      <th>20</th>\n",
       "      <td>75</td>\n",
       "    </tr>\n",
       "    <tr>\n",
       "      <th>21</th>\n",
       "      <td>76</td>\n",
       "    </tr>\n",
       "    <tr>\n",
       "      <th>22</th>\n",
       "      <td>77</td>\n",
       "    </tr>\n",
       "    <tr>\n",
       "      <th>23</th>\n",
       "      <td>78</td>\n",
       "    </tr>\n",
       "    <tr>\n",
       "      <th>24</th>\n",
       "      <td>79</td>\n",
       "    </tr>\n",
       "    <tr>\n",
       "      <th>25</th>\n",
       "      <td>80</td>\n",
       "    </tr>\n",
       "    <tr>\n",
       "      <th>26</th>\n",
       "      <td>81</td>\n",
       "    </tr>\n",
       "    <tr>\n",
       "      <th>27</th>\n",
       "      <td>82</td>\n",
       "    </tr>\n",
       "    <tr>\n",
       "      <th>28</th>\n",
       "      <td>83</td>\n",
       "    </tr>\n",
       "    <tr>\n",
       "      <th>29</th>\n",
       "      <td>84</td>\n",
       "    </tr>\n",
       "    <tr>\n",
       "      <th>30</th>\n",
       "      <td>85</td>\n",
       "    </tr>\n",
       "    <tr>\n",
       "      <th>31</th>\n",
       "      <td>86</td>\n",
       "    </tr>\n",
       "    <tr>\n",
       "      <th>32</th>\n",
       "      <td>87</td>\n",
       "    </tr>\n",
       "    <tr>\n",
       "      <th>33</th>\n",
       "      <td>88</td>\n",
       "    </tr>\n",
       "    <tr>\n",
       "      <th>34</th>\n",
       "      <td>89</td>\n",
       "    </tr>\n",
       "    <tr>\n",
       "      <th>35</th>\n",
       "      <td>90</td>\n",
       "    </tr>\n",
       "    <tr>\n",
       "      <th>36</th>\n",
       "      <td>97</td>\n",
       "    </tr>\n",
       "    <tr>\n",
       "      <th>37</th>\n",
       "      <td>98</td>\n",
       "    </tr>\n",
       "    <tr>\n",
       "      <th>38</th>\n",
       "      <td>100</td>\n",
       "    </tr>\n",
       "    <tr>\n",
       "      <th>39</th>\n",
       "      <td>101</td>\n",
       "    </tr>\n",
       "    <tr>\n",
       "      <th>40</th>\n",
       "      <td>102</td>\n",
       "    </tr>\n",
       "    <tr>\n",
       "      <th>41</th>\n",
       "      <td>103</td>\n",
       "    </tr>\n",
       "    <tr>\n",
       "      <th>42</th>\n",
       "      <td>104</td>\n",
       "    </tr>\n",
       "    <tr>\n",
       "      <th>43</th>\n",
       "      <td>110</td>\n",
       "    </tr>\n",
       "    <tr>\n",
       "      <th>44</th>\n",
       "      <td>113</td>\n",
       "    </tr>\n",
       "    <tr>\n",
       "      <th>45</th>\n",
       "      <td>114</td>\n",
       "    </tr>\n",
       "    <tr>\n",
       "      <th>46</th>\n",
       "      <td>116</td>\n",
       "    </tr>\n",
       "  </tbody>\n",
       "</table>\n",
       "</div>"
      ]
     },
     "execution_count": 8,
     "metadata": {},
     "output_type": "execute_result"
    }
   ],
   "execution_count": 8
  },
  {
   "metadata": {
    "ExecuteTime": {
     "end_time": "2024-06-14T16:19:34.163684Z",
     "start_time": "2024-06-14T16:19:34.151329Z"
    }
   },
   "cell_type": "code",
   "source": [
    "labels = labels.squeeze()\n",
    "labels"
   ],
   "id": "f6e52a137c2611a3",
   "outputs": [
    {
     "data": {
      "text/plain": [
       "0\n",
       "0      48\n",
       "1      49\n",
       "2      50\n",
       "3      51\n",
       "4      52\n",
       "5      53\n",
       "6      54\n",
       "7      55\n",
       "8      56\n",
       "9      57\n",
       "10     65\n",
       "11     66\n",
       "12     67\n",
       "13     68\n",
       "14     69\n",
       "15     70\n",
       "16     71\n",
       "17     72\n",
       "18     73\n",
       "19     74\n",
       "20     75\n",
       "21     76\n",
       "22     77\n",
       "23     78\n",
       "24     79\n",
       "25     80\n",
       "26     81\n",
       "27     82\n",
       "28     83\n",
       "29     84\n",
       "30     85\n",
       "31     86\n",
       "32     87\n",
       "33     88\n",
       "34     89\n",
       "35     90\n",
       "36     97\n",
       "37     98\n",
       "38    100\n",
       "39    101\n",
       "40    102\n",
       "41    103\n",
       "42    104\n",
       "43    110\n",
       "44    113\n",
       "45    114\n",
       "46    116\n",
       "Name: 1, dtype: int64"
      ]
     },
     "execution_count": 9,
     "metadata": {},
     "output_type": "execute_result"
    }
   ],
   "execution_count": 9
  },
  {
   "metadata": {
    "ExecuteTime": {
     "end_time": "2024-06-14T16:19:35.037894Z",
     "start_time": "2024-06-14T16:19:35.025664Z"
    }
   },
   "cell_type": "code",
   "source": [
    "label_dict = {}\n",
    "\n",
    "for index, label in enumerate(labels):\n",
    "    label_dict[index] = chr(label)\n",
    "    \n",
    "label_dict"
   ],
   "id": "ccc9c9911d09ebf0",
   "outputs": [
    {
     "data": {
      "text/plain": [
       "{0: '0',\n",
       " 1: '1',\n",
       " 2: '2',\n",
       " 3: '3',\n",
       " 4: '4',\n",
       " 5: '5',\n",
       " 6: '6',\n",
       " 7: '7',\n",
       " 8: '8',\n",
       " 9: '9',\n",
       " 10: 'A',\n",
       " 11: 'B',\n",
       " 12: 'C',\n",
       " 13: 'D',\n",
       " 14: 'E',\n",
       " 15: 'F',\n",
       " 16: 'G',\n",
       " 17: 'H',\n",
       " 18: 'I',\n",
       " 19: 'J',\n",
       " 20: 'K',\n",
       " 21: 'L',\n",
       " 22: 'M',\n",
       " 23: 'N',\n",
       " 24: 'O',\n",
       " 25: 'P',\n",
       " 26: 'Q',\n",
       " 27: 'R',\n",
       " 28: 'S',\n",
       " 29: 'T',\n",
       " 30: 'U',\n",
       " 31: 'V',\n",
       " 32: 'W',\n",
       " 33: 'X',\n",
       " 34: 'Y',\n",
       " 35: 'Z',\n",
       " 36: 'a',\n",
       " 37: 'b',\n",
       " 38: 'd',\n",
       " 39: 'e',\n",
       " 40: 'f',\n",
       " 41: 'g',\n",
       " 42: 'h',\n",
       " 43: 'n',\n",
       " 44: 'q',\n",
       " 45: 'r',\n",
       " 46: 't'}"
      ]
     },
     "execution_count": 10,
     "metadata": {},
     "output_type": "execute_result"
    }
   ],
   "execution_count": 10
  },
  {
   "metadata": {
    "ExecuteTime": {
     "end_time": "2024-06-14T16:20:36.966710Z",
     "start_time": "2024-06-14T16:20:36.952761Z"
    }
   },
   "cell_type": "code",
   "source": [
    "demo = local_X_Data[:10]\n",
    "demo"
   ],
   "id": "7354250998aa8eb3",
   "outputs": [
    {
     "data": {
      "text/plain": [
       "array([[[[ 0.        ],\n",
       "         [ 0.        ],\n",
       "         [ 0.        ],\n",
       "         ...,\n",
       "         [-0.001197  ],\n",
       "         [-0.001197  ],\n",
       "         [ 0.        ]],\n",
       "\n",
       "        [[ 0.        ],\n",
       "         [-0.00357283],\n",
       "         [-0.01115283],\n",
       "         ...,\n",
       "         [-0.02875895],\n",
       "         [-0.0077221 ],\n",
       "         [ 0.        ]],\n",
       "\n",
       "        [[ 0.        ],\n",
       "         [-0.01025378],\n",
       "         [-0.03018486],\n",
       "         ...,\n",
       "         [-0.08606118],\n",
       "         [-0.03004914],\n",
       "         [-0.00165994]],\n",
       "\n",
       "        ...,\n",
       "\n",
       "        [[-0.001197  ],\n",
       "         [-0.02374899],\n",
       "         [-0.07051541],\n",
       "         ...,\n",
       "         [-0.03973727],\n",
       "         [-0.01376886],\n",
       "         [ 0.        ]],\n",
       "\n",
       "        [[-0.001197  ],\n",
       "         [-0.00740362],\n",
       "         [-0.02410608],\n",
       "         ...,\n",
       "         [-0.01434075],\n",
       "         [-0.00729305],\n",
       "         [ 0.        ]],\n",
       "\n",
       "        [[ 0.        ],\n",
       "         [-0.001197  ],\n",
       "         [-0.001197  ],\n",
       "         ...,\n",
       "         [ 0.        ],\n",
       "         [ 0.        ],\n",
       "         [ 0.        ]]],\n",
       "\n",
       "\n",
       "       [[[ 0.        ],\n",
       "         [ 0.        ],\n",
       "         [ 0.        ],\n",
       "         ...,\n",
       "         [-0.001197  ],\n",
       "         [-0.001197  ],\n",
       "         [ 0.        ]],\n",
       "\n",
       "        [[ 0.        ],\n",
       "         [-0.00357283],\n",
       "         [-0.01115283],\n",
       "         ...,\n",
       "         [-0.02875895],\n",
       "         [-0.0077221 ],\n",
       "         [ 0.        ]],\n",
       "\n",
       "        [[ 0.        ],\n",
       "         [-0.01025378],\n",
       "         [-0.03018486],\n",
       "         ...,\n",
       "         [-0.08606118],\n",
       "         [-0.03004914],\n",
       "         [-0.00165994]],\n",
       "\n",
       "        ...,\n",
       "\n",
       "        [[-0.001197  ],\n",
       "         [-0.02374899],\n",
       "         [-0.07051541],\n",
       "         ...,\n",
       "         [-0.03973727],\n",
       "         [-0.01376886],\n",
       "         [ 0.        ]],\n",
       "\n",
       "        [[-0.001197  ],\n",
       "         [-0.00740362],\n",
       "         [-0.02410608],\n",
       "         ...,\n",
       "         [-0.01434075],\n",
       "         [-0.00729305],\n",
       "         [ 0.        ]],\n",
       "\n",
       "        [[ 0.        ],\n",
       "         [-0.001197  ],\n",
       "         [-0.001197  ],\n",
       "         ...,\n",
       "         [ 0.        ],\n",
       "         [ 0.        ],\n",
       "         [ 0.        ]]],\n",
       "\n",
       "\n",
       "       [[[ 0.        ],\n",
       "         [ 0.        ],\n",
       "         [ 0.        ],\n",
       "         ...,\n",
       "         [-0.001197  ],\n",
       "         [-0.001197  ],\n",
       "         [ 0.        ]],\n",
       "\n",
       "        [[ 0.        ],\n",
       "         [-0.00357283],\n",
       "         [-0.01115283],\n",
       "         ...,\n",
       "         [-0.02875895],\n",
       "         [-0.0077221 ],\n",
       "         [ 0.        ]],\n",
       "\n",
       "        [[ 0.        ],\n",
       "         [-0.01025378],\n",
       "         [-0.03018486],\n",
       "         ...,\n",
       "         [-0.08606118],\n",
       "         [-0.03004914],\n",
       "         [-0.00165994]],\n",
       "\n",
       "        ...,\n",
       "\n",
       "        [[-0.001197  ],\n",
       "         [-0.02374899],\n",
       "         [-0.07051541],\n",
       "         ...,\n",
       "         [-0.03973727],\n",
       "         [-0.01376886],\n",
       "         [ 0.        ]],\n",
       "\n",
       "        [[-0.001197  ],\n",
       "         [-0.00740362],\n",
       "         [-0.02410608],\n",
       "         ...,\n",
       "         [-0.01434075],\n",
       "         [-0.00729305],\n",
       "         [ 0.        ]],\n",
       "\n",
       "        [[ 0.        ],\n",
       "         [-0.001197  ],\n",
       "         [-0.001197  ],\n",
       "         ...,\n",
       "         [ 0.        ],\n",
       "         [ 0.        ],\n",
       "         [ 0.        ]]],\n",
       "\n",
       "\n",
       "       ...,\n",
       "\n",
       "\n",
       "       [[[ 0.        ],\n",
       "         [ 0.        ],\n",
       "         [ 0.        ],\n",
       "         ...,\n",
       "         [-0.001197  ],\n",
       "         [-0.001197  ],\n",
       "         [ 0.        ]],\n",
       "\n",
       "        [[ 0.        ],\n",
       "         [-0.00357283],\n",
       "         [-0.01115283],\n",
       "         ...,\n",
       "         [-0.02875895],\n",
       "         [-0.0077221 ],\n",
       "         [ 0.        ]],\n",
       "\n",
       "        [[ 0.        ],\n",
       "         [-0.01025378],\n",
       "         [-0.03018486],\n",
       "         ...,\n",
       "         [-0.08606118],\n",
       "         [-0.03004914],\n",
       "         [-0.00165994]],\n",
       "\n",
       "        ...,\n",
       "\n",
       "        [[-0.001197  ],\n",
       "         [-0.02374899],\n",
       "         [-0.07051541],\n",
       "         ...,\n",
       "         [-0.03973727],\n",
       "         [-0.01376886],\n",
       "         [ 0.        ]],\n",
       "\n",
       "        [[-0.001197  ],\n",
       "         [-0.00740362],\n",
       "         [-0.02410608],\n",
       "         ...,\n",
       "         [-0.01434075],\n",
       "         [-0.00729305],\n",
       "         [ 0.        ]],\n",
       "\n",
       "        [[ 0.        ],\n",
       "         [-0.001197  ],\n",
       "         [-0.001197  ],\n",
       "         ...,\n",
       "         [ 0.        ],\n",
       "         [ 0.        ],\n",
       "         [ 0.        ]]],\n",
       "\n",
       "\n",
       "       [[[ 0.        ],\n",
       "         [ 0.        ],\n",
       "         [ 0.        ],\n",
       "         ...,\n",
       "         [-0.001197  ],\n",
       "         [-0.001197  ],\n",
       "         [ 0.        ]],\n",
       "\n",
       "        [[ 0.        ],\n",
       "         [-0.00357283],\n",
       "         [-0.01115283],\n",
       "         ...,\n",
       "         [-0.02875895],\n",
       "         [-0.0077221 ],\n",
       "         [ 0.        ]],\n",
       "\n",
       "        [[ 0.        ],\n",
       "         [-0.01025378],\n",
       "         [-0.03018486],\n",
       "         ...,\n",
       "         [-0.08606118],\n",
       "         [-0.03004914],\n",
       "         [-0.00165994]],\n",
       "\n",
       "        ...,\n",
       "\n",
       "        [[-0.001197  ],\n",
       "         [-0.02374899],\n",
       "         [-0.07051541],\n",
       "         ...,\n",
       "         [-0.03973727],\n",
       "         [-0.01376886],\n",
       "         [ 0.        ]],\n",
       "\n",
       "        [[-0.001197  ],\n",
       "         [-0.00740362],\n",
       "         [-0.02410608],\n",
       "         ...,\n",
       "         [-0.01434075],\n",
       "         [-0.00729305],\n",
       "         [ 0.        ]],\n",
       "\n",
       "        [[ 0.        ],\n",
       "         [-0.001197  ],\n",
       "         [-0.001197  ],\n",
       "         ...,\n",
       "         [ 0.        ],\n",
       "         [ 0.        ],\n",
       "         [ 0.        ]]],\n",
       "\n",
       "\n",
       "       [[[ 0.        ],\n",
       "         [ 0.        ],\n",
       "         [ 0.        ],\n",
       "         ...,\n",
       "         [-0.001197  ],\n",
       "         [-0.001197  ],\n",
       "         [ 0.        ]],\n",
       "\n",
       "        [[ 0.        ],\n",
       "         [-0.00357283],\n",
       "         [-0.01115283],\n",
       "         ...,\n",
       "         [-0.02875895],\n",
       "         [-0.0077221 ],\n",
       "         [ 0.        ]],\n",
       "\n",
       "        [[ 0.        ],\n",
       "         [-0.01025378],\n",
       "         [-0.03018486],\n",
       "         ...,\n",
       "         [-0.08606118],\n",
       "         [-0.03004914],\n",
       "         [-0.00165994]],\n",
       "\n",
       "        ...,\n",
       "\n",
       "        [[-0.001197  ],\n",
       "         [-0.02374899],\n",
       "         [-0.07051541],\n",
       "         ...,\n",
       "         [-0.03973727],\n",
       "         [-0.01376886],\n",
       "         [ 0.        ]],\n",
       "\n",
       "        [[-0.001197  ],\n",
       "         [-0.00740362],\n",
       "         [-0.02410608],\n",
       "         ...,\n",
       "         [-0.01434075],\n",
       "         [-0.00729305],\n",
       "         [ 0.        ]],\n",
       "\n",
       "        [[ 0.        ],\n",
       "         [-0.001197  ],\n",
       "         [-0.001197  ],\n",
       "         ...,\n",
       "         [ 0.        ],\n",
       "         [ 0.        ],\n",
       "         [ 0.        ]]]])"
      ]
     },
     "execution_count": 11,
     "metadata": {},
     "output_type": "execute_result"
    }
   ],
   "execution_count": 11
  },
  {
   "metadata": {
    "ExecuteTime": {
     "end_time": "2024-06-14T16:22:21.131196Z",
     "start_time": "2024-06-14T16:22:20.245416Z"
    }
   },
   "cell_type": "code",
   "source": "model = load_model('char_model.keras')",
   "id": "885cf95b3c750c7",
   "outputs": [],
   "execution_count": 12
  },
  {
   "metadata": {
    "ExecuteTime": {
     "end_time": "2024-06-14T16:24:50.895906Z",
     "start_time": "2024-06-14T16:24:50.787882Z"
    }
   },
   "cell_type": "code",
   "source": [
    "y_pred = model.predict(demo)\n",
    "y_pred"
   ],
   "id": "54323694e489a33e",
   "outputs": [
    {
     "name": "stdout",
     "output_type": "stream",
     "text": [
      "\u001B[1m1/1\u001B[0m \u001B[32m━━━━━━━━━━━━━━━━━━━━\u001B[0m\u001B[37m\u001B[0m \u001B[1m0s\u001B[0m 39ms/step\n"
     ]
    },
    {
     "data": {
      "text/plain": [
       "array([[6.30675435e-01, 3.26532745e-10, 5.38589802e-07, 6.98680367e-08,\n",
       "        9.81024950e-09, 1.03087950e-05, 8.80125484e-08, 1.67461458e-08,\n",
       "        2.62306031e-07, 2.12736936e-07, 6.74638017e-08, 5.60519595e-08,\n",
       "        5.30537727e-05, 1.74171760e-06, 3.15163762e-09, 2.36678446e-08,\n",
       "        4.97291580e-07, 1.58706506e-10, 8.08537237e-10, 1.81415842e-07,\n",
       "        4.71404193e-14, 3.14880144e-09, 1.58373016e-13, 7.76705922e-10,\n",
       "        3.69244337e-01, 1.08459153e-08, 8.01370049e-07, 4.37127279e-11,\n",
       "        7.33678974e-07, 1.95363659e-09, 3.33126280e-07, 4.59095872e-10,\n",
       "        5.76347824e-12, 1.70187730e-13, 1.78169077e-11, 1.77554124e-10,\n",
       "        5.42894531e-06, 2.54168491e-08, 6.74260832e-07, 4.28483054e-06,\n",
       "        2.40176448e-08, 4.99465045e-07, 7.13074044e-11, 3.93298061e-09,\n",
       "        1.17315558e-07, 2.47117988e-08, 1.87946242e-07],\n",
       "       [2.68915865e-05, 5.41171066e-11, 9.51641414e-06, 4.12456158e-09,\n",
       "        9.58627879e-06, 6.78588705e-08, 2.19930616e-08, 1.14593453e-10,\n",
       "        1.28859824e-06, 4.14496662e-06, 1.17903733e-06, 1.28928033e-08,\n",
       "        3.64660846e-05, 6.09468387e-09, 1.47930812e-04, 4.02805860e-08,\n",
       "        7.19605032e-06, 9.55368076e-11, 8.18656753e-10, 1.46812923e-10,\n",
       "        2.10932077e-10, 1.12188454e-08, 1.63847460e-11, 8.99417780e-12,\n",
       "        7.26490180e-06, 7.15519288e-09, 1.72980151e-06, 1.22318329e-06,\n",
       "        3.45413537e-06, 3.49271945e-10, 6.42297039e-07, 4.97158315e-10,\n",
       "        8.71564973e-11, 2.34609054e-10, 7.78423992e-09, 1.13038391e-06,\n",
       "        9.13286931e-04, 1.25547119e-08, 5.14315047e-07, 9.98672247e-01,\n",
       "        3.35081562e-09, 5.96696154e-05, 1.22341526e-10, 9.16159926e-10,\n",
       "        9.39366219e-05, 5.29278054e-07, 1.69846786e-08],\n",
       "       [7.98202535e-08, 3.31263662e-11, 4.27221294e-14, 3.42927041e-11,\n",
       "        1.07129167e-11, 9.99982834e-01, 1.47696909e-07, 3.58617921e-13,\n",
       "        3.62834851e-09, 3.71599754e-07, 6.81499342e-18, 1.41818354e-11,\n",
       "        5.38632037e-08, 5.64614223e-11, 1.14413963e-08, 2.34006563e-07,\n",
       "        4.67058499e-08, 3.05608799e-16, 2.34962876e-08, 5.87594695e-06,\n",
       "        1.91542867e-13, 1.10014560e-10, 5.22694589e-20, 6.55599986e-15,\n",
       "        2.06852739e-08, 1.98563770e-11, 1.12355923e-10, 2.04144618e-17,\n",
       "        8.66723985e-06, 9.29869737e-10, 1.02020052e-10, 1.98472887e-11,\n",
       "        5.70438141e-10, 2.75608512e-15, 1.63510734e-08, 3.52047899e-14,\n",
       "        3.31897392e-11, 3.54390584e-09, 2.38167775e-12, 2.97966651e-09,\n",
       "        7.62231451e-08, 1.57368709e-06, 1.97222186e-12, 9.61395026e-13,\n",
       "        2.92657498e-09, 2.79397810e-10, 7.60772390e-10],\n",
       "       [3.66561011e-07, 1.56196479e-11, 1.86175448e-08, 1.87361970e-09,\n",
       "        1.23083268e-07, 6.19935122e-07, 9.99607623e-01, 3.99744718e-13,\n",
       "        4.82319933e-07, 4.11450873e-10, 2.20985807e-09, 6.74314322e-07,\n",
       "        3.96035732e-10, 2.86124652e-10, 5.48351409e-08, 4.70594841e-10,\n",
       "        2.88358598e-04, 6.65452277e-11, 5.23454405e-11, 4.54585214e-09,\n",
       "        1.26069706e-08, 1.39796811e-07, 6.49542743e-14, 3.36824514e-12,\n",
       "        6.28974295e-09, 4.14873512e-13, 4.25033508e-10, 1.02701868e-10,\n",
       "        7.77063889e-08, 6.72674535e-13, 1.92981346e-08, 5.73573849e-14,\n",
       "        5.09233722e-09, 2.58786807e-12, 3.10996784e-10, 6.34134789e-09,\n",
       "        1.71587455e-08, 8.82780078e-05, 1.74169372e-07, 2.03961150e-08,\n",
       "        2.74146728e-09, 1.29500449e-05, 3.08151016e-08, 2.44050711e-13,\n",
       "        1.50283626e-07, 4.72316852e-10, 1.33531302e-08],\n",
       "       [1.26545912e-08, 6.49665481e-07, 2.47875690e-01, 1.46777238e-04,\n",
       "        1.51107720e-11, 3.57999012e-11, 6.50263732e-11, 4.45429791e-08,\n",
       "        4.09460164e-08, 7.00050009e-08, 1.50966557e-07, 3.73191931e-08,\n",
       "        9.03288750e-08, 1.25693998e-06, 3.70637390e-05, 3.78664078e-09,\n",
       "        7.41607956e-11, 2.18722962e-13, 2.03243853e-05, 1.90517646e-08,\n",
       "        8.72089553e-11, 4.57935840e-07, 1.02802298e-11, 1.33753869e-10,\n",
       "        5.79274406e-09, 1.25097988e-10, 1.21472721e-10, 1.02149625e-06,\n",
       "        8.63710969e-09, 3.20025340e-09, 2.19198237e-09, 4.33322269e-13,\n",
       "        1.71401792e-13, 9.11972734e-07, 1.98167771e-09, 7.48238504e-01,\n",
       "        3.65818036e-03, 1.14915650e-08, 1.05819038e-06, 9.70749443e-06,\n",
       "        4.04559747e-10, 1.51932898e-06, 3.29661098e-09, 1.39330689e-08,\n",
       "        2.24491760e-06, 4.74568917e-09, 4.11582187e-06],\n",
       "       [1.75611899e-06, 3.14435526e-11, 4.03998079e-08, 1.44485739e-07,\n",
       "        1.12783516e-08, 6.88628788e-05, 9.85743940e-01, 6.46615682e-13,\n",
       "        6.90015577e-06, 3.39204576e-08, 1.41202406e-11, 8.81592371e-07,\n",
       "        2.45461385e-09, 1.66013026e-09, 1.53882388e-06, 2.04103845e-08,\n",
       "        1.40247559e-02, 3.86173678e-13, 2.15038520e-09, 6.09680981e-08,\n",
       "        3.99646566e-11, 6.36921182e-09, 2.20227110e-16, 3.35069530e-14,\n",
       "        2.40491147e-07, 5.38467621e-12, 3.87258261e-08, 2.15879970e-11,\n",
       "        7.16015566e-05, 1.09263225e-13, 2.91941582e-09, 8.13190525e-14,\n",
       "        7.15163884e-09, 1.24662548e-14, 1.09090181e-09, 3.89523391e-09,\n",
       "        3.08000324e-07, 6.58425597e-06, 2.98265679e-09, 3.78013141e-07,\n",
       "        4.04566407e-08, 6.63607134e-05, 2.80803580e-09, 7.31920238e-15,\n",
       "        5.39538905e-06, 1.71972520e-10, 4.40854818e-11],\n",
       "       [1.50358301e-05, 3.00363045e-05, 2.25981290e-04, 9.84777451e-01,\n",
       "        5.94344556e-07, 4.06305538e-03, 9.03377804e-06, 5.98519273e-06,\n",
       "        1.21044570e-06, 9.69607390e-06, 3.66209771e-11, 1.00530883e-06,\n",
       "        2.41758971e-05, 6.15094996e-06, 2.21463706e-05, 1.92838088e-05,\n",
       "        1.85376041e-06, 1.39751717e-11, 3.34514352e-03, 4.23931982e-03,\n",
       "        1.00594748e-10, 3.04818650e-06, 5.89462593e-12, 5.19456078e-09,\n",
       "        9.88746342e-06, 5.21834442e-09, 4.27196722e-09, 3.27770866e-11,\n",
       "        1.03813724e-03, 6.54443397e-07, 8.52754874e-06, 1.70694918e-07,\n",
       "        6.52265371e-08, 8.00977631e-08, 4.08213848e-04, 1.27179909e-03,\n",
       "        3.76246476e-06, 1.70698084e-04, 2.27172848e-07, 8.46771763e-06,\n",
       "        7.43906685e-06, 1.86490492e-04, 9.95969440e-09, 5.03545206e-09,\n",
       "        5.49451761e-06, 1.35995537e-09, 7.95122323e-05],\n",
       "       [6.10446733e-08, 7.32860088e-01, 2.64790856e-06, 1.08466325e-09,\n",
       "        1.00939114e-05, 1.05579659e-06, 7.01122917e-05, 8.70843633e-06,\n",
       "        2.11837141e-06, 8.40523001e-07, 7.37596281e-07, 5.64156812e-11,\n",
       "        5.00399210e-06, 3.04349470e-08, 2.88860889e-07, 2.97959650e-05,\n",
       "        1.96886130e-09, 7.54052144e-06, 6.67176843e-02, 4.29886510e-04,\n",
       "        3.64917196e-06, 1.99009120e-01, 1.55376909e-11, 1.32866205e-07,\n",
       "        4.63866314e-07, 1.40996644e-06, 1.80998022e-10, 2.76614323e-08,\n",
       "        2.37563472e-06, 8.27787953e-05, 1.08681816e-05, 1.63978875e-05,\n",
       "        5.85880819e-08, 6.49180402e-06, 1.20875029e-05, 2.06864485e-07,\n",
       "        4.36585253e-07, 5.29033002e-07, 4.51276583e-06, 1.76308923e-09,\n",
       "        6.97203313e-06, 3.75292082e-08, 1.74764049e-04, 1.62900164e-06,\n",
       "        1.59284113e-07, 3.16678692e-04, 2.01680596e-04],\n",
       "       [2.82044439e-05, 6.83821879e-12, 2.65301111e-07, 4.51026688e-10,\n",
       "        1.88411883e-04, 2.28026753e-09, 6.45068326e-07, 1.58533769e-10,\n",
       "        1.22208959e-07, 7.19728632e-05, 2.71828085e-05, 9.54489323e-08,\n",
       "        1.54490944e-08, 5.48997079e-08, 2.21140009e-10, 2.97804394e-08,\n",
       "        6.16764463e-03, 3.03542578e-08, 1.76484652e-12, 1.76602444e-09,\n",
       "        1.43344736e-09, 8.87446922e-11, 1.25444577e-09, 1.86603355e-09,\n",
       "        1.22557112e-05, 1.17508205e-06, 9.92023349e-01, 5.46630645e-07,\n",
       "        2.96056243e-07, 4.31644575e-13, 2.09224169e-07, 6.07599943e-11,\n",
       "        3.90289927e-07, 1.96309033e-13, 1.91738536e-09, 5.27931084e-12,\n",
       "        8.96737678e-04, 1.36337094e-10, 3.17861407e-07, 1.64781761e-06,\n",
       "        1.89393514e-08, 1.19175347e-04, 3.09197623e-09, 1.52711316e-10,\n",
       "        4.58870112e-04, 2.75635699e-07, 5.93035210e-14],\n",
       "       [2.17801917e-05, 2.55160285e-11, 2.84739954e-10, 1.46923636e-11,\n",
       "        3.75106794e-07, 4.07955085e-05, 7.25732327e-01, 8.17914157e-15,\n",
       "        5.59878401e-07, 2.26103793e-12, 6.67536651e-11, 2.47725311e-05,\n",
       "        1.93619321e-09, 4.05164838e-06, 1.39464206e-07, 6.12086604e-09,\n",
       "        8.68511561e-05, 4.39313030e-10, 2.63628031e-09, 1.23717259e-09,\n",
       "        4.54652181e-05, 5.47431227e-05, 9.20730489e-15, 5.30814948e-10,\n",
       "        3.86980020e-07, 9.17812159e-13, 6.97587432e-10, 1.17036436e-09,\n",
       "        1.74648869e-06, 2.19590509e-11, 1.09820189e-06, 1.01786548e-11,\n",
       "        1.55008557e-08, 5.85368365e-10, 2.12008522e-09, 1.90791632e-10,\n",
       "        1.14080245e-09, 2.73964942e-01, 1.40679276e-07, 1.71013941e-08,\n",
       "        1.33970190e-07, 1.55289754e-07, 1.90471965e-05, 1.89669858e-09,\n",
       "        1.13449525e-08, 1.47713337e-07, 1.54692898e-07]], dtype=float32)"
      ]
     },
     "execution_count": 15,
     "metadata": {},
     "output_type": "execute_result"
    }
   ],
   "execution_count": 15
  },
  {
   "metadata": {
    "ExecuteTime": {
     "end_time": "2024-06-14T16:25:23.542040Z",
     "start_time": "2024-06-14T16:25:23.536522Z"
    }
   },
   "cell_type": "code",
   "source": [
    "def predo(arr):\n",
    "    return np.argmax(arr)\n",
    "\n",
    "new_y_pred = np.zeros(y_pred.shape[0])"
   ],
   "id": "a8a6a71d707c3818",
   "outputs": [],
   "execution_count": 18
  },
  {
   "metadata": {
    "ExecuteTime": {
     "end_time": "2024-06-14T16:25:26.772719Z",
     "start_time": "2024-06-14T16:25:26.762510Z"
    }
   },
   "cell_type": "code",
   "source": [
    "for i in range(y_pred.shape[0]):\n",
    "    new_y_pred[i] = predo(y_pred[i])\n",
    "new_y_pred"
   ],
   "id": "c3e93b701f4b7242",
   "outputs": [
    {
     "data": {
      "text/plain": [
       "array([ 0., 39.,  5.,  6., 35.,  6.,  3.,  1., 26.,  6.])"
      ]
     },
     "execution_count": 19,
     "metadata": {},
     "output_type": "execute_result"
    }
   ],
   "execution_count": 19
  },
  {
   "metadata": {
    "ExecuteTime": {
     "end_time": "2024-06-14T16:29:24.063324Z",
     "start_time": "2024-06-14T16:29:24.056970Z"
    }
   },
   "cell_type": "code",
   "source": "demo.shape",
   "id": "52cd87475c7b324",
   "outputs": [
    {
     "data": {
      "text/plain": [
       "(10, 28, 28, 1)"
      ]
     },
     "execution_count": 24,
     "metadata": {},
     "output_type": "execute_result"
    }
   ],
   "execution_count": 24
  },
  {
   "metadata": {
    "ExecuteTime": {
     "end_time": "2024-06-14T16:29:39.030167Z",
     "start_time": "2024-06-14T16:29:39.023354Z"
    }
   },
   "cell_type": "code",
   "source": "new_y_pred.shape",
   "id": "7934327efe1ba354",
   "outputs": [
    {
     "data": {
      "text/plain": [
       "(10,)"
      ]
     },
     "execution_count": 26,
     "metadata": {},
     "output_type": "execute_result"
    }
   ],
   "execution_count": 26
  },
  {
   "metadata": {
    "ExecuteTime": {
     "end_time": "2024-06-14T16:42:58.852305Z",
     "start_time": "2024-06-14T16:42:57.995052Z"
    }
   },
   "cell_type": "code",
   "source": [
    "plt.figure(figsize=(10, 8), dpi=80)\n",
    "for i in range(10):\n",
    "    plt.subplot(3, 4, i + 1)\n",
    "    plt.imshow(demo[i].reshape(28, 28), cmap=plt.cm.binary)\n",
    "    plt.title(label_dict[new_y_pred[i]])"
   ],
   "id": "f4b9e717024617eb",
   "outputs": [
    {
     "data": {
      "text/plain": [
       "<Figure size 800x640 with 10 Axes>"
      ],
      "image/png": "[encoded data removed]"
     },
     "metadata": {},
     "output_type": "display_data"
    }
   ],
   "execution_count": 32
  },
  {
   "metadata": {},
   "cell_type": "code",
   "outputs": [],
   "execution_count": null,
   "source": "",
   "id": "49799e3349950853"
  }
 ],
 "metadata": {
  "kernelspec": {
   "display_name": "Python 3",
   "language": "python",
   "name": "python3"
  },
  "language_info": {
   "codemirror_mode": {
    "name": "ipython",
    "version": 2
   },
   "file_extension": ".py",
   "mimetype": "text/x-python",
   "name": "python",
   "nbconvert_exporter": "python",
   "pygments_lexer": "ipython2",
   "version": "2.7.6"
  }
 },
 "nbformat": 4,
 "nbformat_minor": 5
}
